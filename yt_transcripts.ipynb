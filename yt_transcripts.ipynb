{
 "cells": [
  {
   "cell_type": "markdown",
   "metadata": {},
   "source": [
    "# You Tube transcripts"
   ]
  },
  {
   "cell_type": "code",
   "execution_count": 1,
   "metadata": {},
   "outputs": [],
   "source": [
    "from utils import ChannelCrawler, ChannelAnalyzer, aggregate_analysis_files, Channel, VideoInfo\n",
    "\n",
    "%load_ext autoreload\n",
    "%autoreload 2"
   ]
  },
  {
   "cell_type": "markdown",
   "metadata": {},
   "source": [
    "# Search for YT channels of Florida cities and towns\n",
    "\n",
    "So we go over the list of all cities in Florida and search YouTube for \"city of XYZ Florida\" and \"town of XYZ Florida\". This is what `Crawler` class does. See docstring in Crawler for details."
   ]
  },
  {
   "cell_type": "code",
   "execution_count": 2,
   "metadata": {},
   "outputs": [],
   "source": [
    "crawler = ChannelCrawler()"
   ]
  },
  {
   "cell_type": "code",
   "execution_count": 3,
   "metadata": {},
   "outputs": [
    {
     "name": "stderr",
     "output_type": "stream",
     "text": [
      "437it [00:27, 15.70it/s] \n"
     ]
    }
   ],
   "source": [
    "crawler.start()"
   ]
  },
  {
   "cell_type": "markdown",
   "metadata": {},
   "source": [
    "For each json response we now ask ChatGPT to determine is the channel official or not, this creates csv file in analysis folder, and updates in status.csv: "
   ]
  },
  {
   "cell_type": "code",
   "execution_count": 6,
   "metadata": {},
   "outputs": [],
   "source": [
    "analyzer = ChannelAnalyzer()"
   ]
  },
  {
   "cell_type": "code",
   "execution_count": 7,
   "metadata": {},
   "outputs": [
    {
     "name": "stderr",
     "output_type": "stream",
     "text": [
      "437it [01:06,  6.53it/s]\n"
     ]
    }
   ],
   "source": [
    "analyzer.start()"
   ]
  },
  {
   "cell_type": "markdown",
   "metadata": {},
   "source": [
    "We now aggregate the results in a excel file, storing only yes results:"
   ]
  },
  {
   "cell_type": "code",
   "execution_count": 14,
   "metadata": {},
   "outputs": [
    {
     "name": "stdout",
     "output_type": "stream",
     "text": [
      "Error reading analysis/AT00007244.csv. Skipping it.\n"
     ]
    }
   ],
   "source": [
    "aggregate_analysis_files(crawler, 'aggregated_analysis.xlsx')"
   ]
  },
  {
   "cell_type": "markdown",
   "metadata": {},
   "source": [
    "# Get all live videos from one channel\n",
    "\n",
    "We now feed in channel id and get all the live videos from that channel. Let's take an example of city of Belleair Beach (strangely this city is NOT in the list of cities provided):"
   ]
  },
  {
   "cell_type": "code",
   "execution_count": 13,
   "metadata": {},
   "outputs": [],
   "source": [
    "# channel = Channel('UCBTiCuq7bdOfOjqAnHY0zbA')\n",
    "channel = Channel('UCm9YZSpPqHckVrtDdrL3isw')\n"
   ]
  },
  {
   "cell_type": "code",
   "execution_count": null,
   "metadata": {},
   "outputs": [],
   "source": [
    "channel.get_videos()"
   ]
  },
  {
   "cell_type": "markdown",
   "metadata": {},
   "source": [
    "## Extract info from one video"
   ]
  },
  {
   "cell_type": "code",
   "execution_count": 18,
   "metadata": {},
   "outputs": [],
   "source": [
    "video = VideoInfo(\"thGB9IILDOw\")"
   ]
  },
  {
   "cell_type": "code",
   "execution_count": 20,
   "metadata": {},
   "outputs": [
    {
     "name": "stdout",
     "output_type": "stream",
     "text": [
      "Dictionary saved to channels/UCBTiCuq7bdOfOjqAnHY0zbA/videos/thGB9IILDOw.json\n"
     ]
    }
   ],
   "source": [
    "video.get_all_video_info()"
   ]
  },
  {
   "cell_type": "markdown",
   "metadata": {},
   "source": [
    "# Extract all transcripts from a channel"
   ]
  },
  {
   "cell_type": "code",
   "execution_count": 22,
   "metadata": {},
   "outputs": [
    {
     "name": "stdout",
     "output_type": "stream",
     "text": [
      "Could not get transcript for video:  3eHSnYwnX4g\n",
      "Could not get transcript for video:  vSkwTgdaVN0\n",
      "Could not get transcript for video:  XzvoDIGDBs8\n",
      "Could not get transcript for video:  ZxWje7n_sbE\n",
      "Could not get transcript for video:  kh45r3_hxog\n",
      "Could not get transcript for video:  daKPMUu5hqU\n",
      "Could not get transcript for video:  iJoBvmkrDlw\n",
      "Could not get transcript for video:  09bcu3eOwqs\n",
      "Could not get transcript for video:  wnkknvswiAk\n",
      "Could not get transcript for video:  qjIV49wDChU\n",
      "Could not get transcript for video:  ZUZJrksyKuA\n"
     ]
    }
   ],
   "source": [
    "channel.extract_all()"
   ]
  },
  {
   "cell_type": "code",
   "execution_count": 23,
   "metadata": {},
   "outputs": [],
   "source": [
    "video = VideoInfo('3eHSnYwnX4g')"
   ]
  },
  {
   "cell_type": "code",
   "execution_count": 24,
   "metadata": {},
   "outputs": [
    {
     "name": "stdout",
     "output_type": "stream",
     "text": [
      "Could not get transcript for video:  3eHSnYwnX4g\n",
      "\n",
      "Could not retrieve a transcript for the video https://www.youtube.com/watch?v=3eHSnYwnX4g! This is most likely caused by:\n",
      "\n",
      "Subtitles are disabled for this video\n",
      "\n",
      "If you are sure that the described cause is not responsible for this error and that a transcript should be retrievable, please create an issue at https://github.com/jdepoix/youtube-transcript-api/issues. Please add which version of youtube_transcript_api you are using and provide the information needed to replicate the error. Also make sure that there are no open issues which already describe your problem!\n"
     ]
    }
   ],
   "source": [
    "video.get_only_transcript()"
   ]
  }
 ],
 "metadata": {
  "kernelspec": {
   "display_name": "venv",
   "language": "python",
   "name": "python3"
  },
  "language_info": {
   "codemirror_mode": {
    "name": "ipython",
    "version": 3
   },
   "file_extension": ".py",
   "mimetype": "text/x-python",
   "name": "python",
   "nbconvert_exporter": "python",
   "pygments_lexer": "ipython3",
   "version": "3.10.14"
  }
 },
 "nbformat": 4,
 "nbformat_minor": 2
}
